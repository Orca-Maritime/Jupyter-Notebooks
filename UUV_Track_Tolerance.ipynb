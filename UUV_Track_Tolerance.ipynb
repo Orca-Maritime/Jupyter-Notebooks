{
 "cells": [
  {
   "cell_type": "code",
   "execution_count": null,
   "metadata": {},
   "outputs": [],
   "source": [
    "import arcpy\n",
    "import os \n",
    "\n",
    "arc.env.workspace = gdb_path\n",
    "aprx = arcpy.mp.ArcGISProject(\"CURRENT\")\n",
    "aprx_map = aprx.listMaps(\"Map\")[0]\n",
    "coordinate_system ='GEOGCS[\"GCS_WGS_1984\",DATUM[\"D_WGS_1984\",SPHEROID[\"WGS_1984\",6378137.0,298.257223563]],PRIMEM[\"Greenwich\",0.0],UNIT[\"Degree\",0.0174532925199433]]', \"SAME_AS_INPUT\"\n",
    "append = os.path.join(gdb_path,'Append')\n",
    "connection_lines = os.path.join(gdb_path,'Connection_Lines')\n",
    "orig_track_path = \n",
    "clean_name = \n",
    "excel_path = \n",
    "excel = os.path.join(excel_path, clean_name)\n",
    "def remove_points():\n",
    "    toRemove = aprx_map.ListFeatureClasses('*points', 'Point')\n",
    "    for fc in toRemove:\n",
    "        aprx_map.removeLayer(fc)\n",
    "        arcpy.management.CalculateGeometryAttributes(\"Connection_Lines\", , \"METERS\", ''\n",
    "        \n",
    "if __name__== __'main'__:\n",
    "    ##Brings in and adds UUV Tracks to the map\n",
    "    print(f\"Adding {clean_name} UUV Tracks to the map\")\n",
    "    arcpy.defense.CoordinateTableToPoint(orig_track_path, 'ActualPath_points', 'longitude', 'DD_2', 'latitude')\n",
    "    ##Calculate 'Connection Number'. This will be used when using 'Points-to-Line'\n",
    "    print(f\"Calculating 'ConnectionNum' Field\")                                    \n",
    "    arcpy.management.CalculateField(\"ActualPath_points\", 'ConnectionNum', '!OBJECTID!', 'PYTHON3')                                                 \n",
    "    append = os.path.join(gdb_path,'Append')\n",
    "    ##Copying 'ActualPath_points' layer to 'Append' layer\n",
    "    print(f\"Creating 'Append' Layer\")                                                 \n",
    "    arcpy.management.CopyFeatures('ActualPath_points', append)\n",
    "    ##Near function will populate the nearest coordinates along the planned path in the 'ActualPath_points' attribute table\n",
    "    print(f\"Running 'Near' function\")                                           \n",
    "    arcpy.analysis.Near(\"ActualPath_points\", 'plannedPath', \"\",'LOCATION', 'ANGLE', 'GEODESIC')\n",
    "    ##Creates the points generated from the Near function\n",
    "    print(f\"Creating 'ControlPath_points' layer\")\n",
    "    arcpy.management.MakeXYEventLayer('ActualPath_points', 'NEAR_X', 'NEAR_Y', 'ControlPath_points')\n",
    "    ##Appends 'ControlPath_points' to 'Append' layer    \n",
    "    print(F'Appending \"ControlPath_points\" to \"Append\" layer')                                                \n",
    "    arcpy.management.Append('ControlPath_points', append, 'NO_TEST')\n",
    "    ##Removes the 'ControlPath_points' & 'ActualPath_points' layer from the Map\n",
    "    print('Removing \"ControlPath_points\" & \"ActualPath_points\" layers from the map')                                                 \n",
    "    remove_points() \n",
    "                                                    \n",
    "    arcpy.management.PointsToLine(append, connection_lines, 'ConnectionNum', \"\", 'CLOSE')\n",
    "    arcpy.management.CalculateGeometryAttributes('Connection_Lines', \"Line_Length LENGTH_GEODESIC\", \"METERS\")\n",
    "    arcpy.conversion.TableToExcel(connection_lines, excel, 'ALIAS', 'CODE')"
   ]
  }
 ],
 "metadata": {
  "kernelspec": {
   "display_name": "Python 3.9.11",
   "language": "python",
   "name": "python3"
  },
  "language_info": {
   "file_extension": ".py",
   "name": "python",
   "version": "3.9.11"
  },
  "vscode": {
   "interpreter": {
    "hash": "ef020602a0beb7b4fbc0469db9e5eb5938ac66badb37e205cfd2447009afbe68"
   }
  }
 },
 "nbformat": 4,
 "nbformat_minor": 2
}
